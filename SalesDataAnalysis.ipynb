{
  "nbformat": 4,
  "nbformat_minor": 0,
  "metadata": {
    "colab": {
      "name": "SalesDataAnalysis.ipynb",
      "provenance": [],
      "collapsed_sections": []
    },
    "kernelspec": {
      "name": "python3",
      "display_name": "Python 3"
    }
  },
  "cells": [
    {
      "cell_type": "code",
      "metadata": {
        "id": "xBGwe63iTM4-",
        "outputId": "02c05322-983e-47c8-f3c4-816ff5605fec",
        "colab": {
          "base_uri": "https://localhost:8080/"
        }
      },
      "source": [
        "from google.colab import drive ; drive.mount(\"/content/drive\")"
      ],
      "execution_count": 1,
      "outputs": [
        {
          "output_type": "stream",
          "text": [
            "Mounted at /content/drive\n"
          ],
          "name": "stdout"
        }
      ]
    },
    {
      "cell_type": "code",
      "metadata": {
        "id": "4LGLcKDpUsrx",
        "outputId": "f547b5ff-5031-4090-a022-bf8226e9f7bd",
        "colab": {
          "base_uri": "https://localhost:8080/"
        }
      },
      "source": [
        "import numpy as np\n",
        "import pandas as pd\n",
        "import matplotlib.pyplot as plt\n",
        "import tensorflow as tf\n",
        "import os\n",
        "import re\n",
        "import datetime\n",
        "\n",
        "\n",
        "print(f\"Numpy Version {np.__version__}\")\n",
        "print(f\"Pandas Version {pd.__version__}\")\n",
        "print(f\"Tensorflow Version {tf.__version__}\")"
      ],
      "execution_count": 2,
      "outputs": [
        {
          "output_type": "stream",
          "text": [
            "Numpy Version 1.18.5\n",
            "Pandas Version 1.1.3\n",
            "Tensorflow Version 2.3.0\n"
          ],
          "name": "stdout"
        }
      ]
    },
    {
      "cell_type": "code",
      "metadata": {
        "id": "izn1o6-nU7_c",
        "outputId": "a7493aa4-ca3f-41fb-a6b6-950c0fc58aff",
        "colab": {
          "base_uri": "https://localhost:8080/",
          "height": 363
        }
      },
      "source": [
        "path = \"/content/drive/My Drive/Sales_Data\"\n",
        "files = [file for file in os.listdir(path)if not file.startswith('.')]\n",
        "\n",
        "FullData = pd.DataFrame()\n",
        "\n",
        "for file in files:\n",
        "  datamonth = pd.read_csv(path + \"/\" + file)\n",
        "  FullData = pd.concat([FullData,datamonth],axis = 0)\n",
        "\n",
        "FullData.head(10)"
      ],
      "execution_count": 3,
      "outputs": [
        {
          "output_type": "execute_result",
          "data": {
            "text/html": [
              "<div>\n",
              "<style scoped>\n",
              "    .dataframe tbody tr th:only-of-type {\n",
              "        vertical-align: middle;\n",
              "    }\n",
              "\n",
              "    .dataframe tbody tr th {\n",
              "        vertical-align: top;\n",
              "    }\n",
              "\n",
              "    .dataframe thead th {\n",
              "        text-align: right;\n",
              "    }\n",
              "</style>\n",
              "<table border=\"1\" class=\"dataframe\">\n",
              "  <thead>\n",
              "    <tr style=\"text-align: right;\">\n",
              "      <th></th>\n",
              "      <th>Order ID</th>\n",
              "      <th>Product</th>\n",
              "      <th>Quantity Ordered</th>\n",
              "      <th>Price Each</th>\n",
              "      <th>Order Date</th>\n",
              "      <th>Purchase Address</th>\n",
              "    </tr>\n",
              "  </thead>\n",
              "  <tbody>\n",
              "    <tr>\n",
              "      <th>0</th>\n",
              "      <td>141234</td>\n",
              "      <td>iPhone</td>\n",
              "      <td>1</td>\n",
              "      <td>700</td>\n",
              "      <td>01/22/19 21:25</td>\n",
              "      <td>944 Walnut St, Boston, MA 02215</td>\n",
              "    </tr>\n",
              "    <tr>\n",
              "      <th>1</th>\n",
              "      <td>141235</td>\n",
              "      <td>Lightning Charging Cable</td>\n",
              "      <td>1</td>\n",
              "      <td>14.95</td>\n",
              "      <td>01/28/19 14:15</td>\n",
              "      <td>185 Maple St, Portland, OR 97035</td>\n",
              "    </tr>\n",
              "    <tr>\n",
              "      <th>2</th>\n",
              "      <td>141236</td>\n",
              "      <td>Wired Headphones</td>\n",
              "      <td>2</td>\n",
              "      <td>11.99</td>\n",
              "      <td>01/17/19 13:33</td>\n",
              "      <td>538 Adams St, San Francisco, CA 94016</td>\n",
              "    </tr>\n",
              "    <tr>\n",
              "      <th>3</th>\n",
              "      <td>141237</td>\n",
              "      <td>27in FHD Monitor</td>\n",
              "      <td>1</td>\n",
              "      <td>149.99</td>\n",
              "      <td>01/05/19 20:33</td>\n",
              "      <td>738 10th St, Los Angeles, CA 90001</td>\n",
              "    </tr>\n",
              "    <tr>\n",
              "      <th>4</th>\n",
              "      <td>141238</td>\n",
              "      <td>Wired Headphones</td>\n",
              "      <td>1</td>\n",
              "      <td>11.99</td>\n",
              "      <td>01/25/19 11:59</td>\n",
              "      <td>387 10th St, Austin, TX 73301</td>\n",
              "    </tr>\n",
              "    <tr>\n",
              "      <th>5</th>\n",
              "      <td>141239</td>\n",
              "      <td>AAA Batteries (4-pack)</td>\n",
              "      <td>1</td>\n",
              "      <td>2.99</td>\n",
              "      <td>01/29/19 20:22</td>\n",
              "      <td>775 Willow St, San Francisco, CA 94016</td>\n",
              "    </tr>\n",
              "    <tr>\n",
              "      <th>6</th>\n",
              "      <td>141240</td>\n",
              "      <td>27in 4K Gaming Monitor</td>\n",
              "      <td>1</td>\n",
              "      <td>389.99</td>\n",
              "      <td>01/26/19 12:16</td>\n",
              "      <td>979 Park St, Los Angeles, CA 90001</td>\n",
              "    </tr>\n",
              "    <tr>\n",
              "      <th>7</th>\n",
              "      <td>141241</td>\n",
              "      <td>USB-C Charging Cable</td>\n",
              "      <td>1</td>\n",
              "      <td>11.95</td>\n",
              "      <td>01/05/19 12:04</td>\n",
              "      <td>181 6th St, San Francisco, CA 94016</td>\n",
              "    </tr>\n",
              "    <tr>\n",
              "      <th>8</th>\n",
              "      <td>141242</td>\n",
              "      <td>Bose SoundSport Headphones</td>\n",
              "      <td>1</td>\n",
              "      <td>99.99</td>\n",
              "      <td>01/01/19 10:30</td>\n",
              "      <td>867 Willow St, Los Angeles, CA 90001</td>\n",
              "    </tr>\n",
              "    <tr>\n",
              "      <th>9</th>\n",
              "      <td>141243</td>\n",
              "      <td>Apple Airpods Headphones</td>\n",
              "      <td>1</td>\n",
              "      <td>150</td>\n",
              "      <td>01/22/19 21:20</td>\n",
              "      <td>657 Johnson St, San Francisco, CA 94016</td>\n",
              "    </tr>\n",
              "  </tbody>\n",
              "</table>\n",
              "</div>"
            ],
            "text/plain": [
              "  Order ID  ...                         Purchase Address\n",
              "0   141234  ...          944 Walnut St, Boston, MA 02215\n",
              "1   141235  ...         185 Maple St, Portland, OR 97035\n",
              "2   141236  ...    538 Adams St, San Francisco, CA 94016\n",
              "3   141237  ...       738 10th St, Los Angeles, CA 90001\n",
              "4   141238  ...            387 10th St, Austin, TX 73301\n",
              "5   141239  ...   775 Willow St, San Francisco, CA 94016\n",
              "6   141240  ...       979 Park St, Los Angeles, CA 90001\n",
              "7   141241  ...      181 6th St, San Francisco, CA 94016\n",
              "8   141242  ...     867 Willow St, Los Angeles, CA 90001\n",
              "9   141243  ...  657 Johnson St, San Francisco, CA 94016\n",
              "\n",
              "[10 rows x 6 columns]"
            ]
          },
          "metadata": {
            "tags": []
          },
          "execution_count": 3
        }
      ]
    },
    {
      "cell_type": "code",
      "metadata": {
        "id": "ZdMhsVv-Wq6R"
      },
      "source": [
        "FullData.to_csv(\"Fulldata.csv\",index=False)"
      ],
      "execution_count": 4,
      "outputs": []
    },
    {
      "cell_type": "code",
      "metadata": {
        "id": "YrYgGu_pW1yZ"
      },
      "source": [
        "df = FullData.copy()"
      ],
      "execution_count": 5,
      "outputs": []
    },
    {
      "cell_type": "code",
      "metadata": {
        "id": "Q_2p4BJIW5Xr",
        "outputId": "60e9a0d6-206d-45a2-a515-a1ba8d951301",
        "colab": {
          "base_uri": "https://localhost:8080/"
        }
      },
      "source": [
        "print(f\"row {df.shape[0]} , Columns {df.shape[1]}\" )\n",
        "print(f\"Contain Nans ? {df.isna().sum()}\")\n"
      ],
      "execution_count": 6,
      "outputs": [
        {
          "output_type": "stream",
          "text": [
            "row 186850 , Columns 6\n",
            "Contain Nans ? Order ID            545\n",
            "Product             545\n",
            "Quantity Ordered    545\n",
            "Price Each          545\n",
            "Order Date          545\n",
            "Purchase Address    545\n",
            "dtype: int64\n"
          ],
          "name": "stdout"
        }
      ]
    },
    {
      "cell_type": "code",
      "metadata": {
        "id": "LoyIYVOSXgHc",
        "outputId": "d53b62a4-46eb-45e2-b352-3c909f19e16c",
        "colab": {
          "base_uri": "https://localhost:8080/"
        }
      },
      "source": [
        "df.dropna(how=\"all\" , inplace=True)\n",
        "print(f\"Contain Nans ? {df.isna().sum()}\")"
      ],
      "execution_count": 7,
      "outputs": [
        {
          "output_type": "stream",
          "text": [
            "Contain Nans ? Order ID            0\n",
            "Product             0\n",
            "Quantity Ordered    0\n",
            "Price Each          0\n",
            "Order Date          0\n",
            "Purchase Address    0\n",
            "dtype: int64\n"
          ],
          "name": "stdout"
        }
      ]
    },
    {
      "cell_type": "code",
      "metadata": {
        "id": "ge18ppAKdLSU",
        "outputId": "90afd380-c67a-43c6-d9af-c181320aa43f",
        "colab": {
          "base_uri": "https://localhost:8080/",
          "height": 49
        }
      },
      "source": [
        "satanIndex = df[df[\"Purchase Address\"] == \"Purchase Address\"].index\n",
        "dfCleaned = df.drop(index=[satanIndex][0])\n",
        "dfCleaned[dfCleaned[\"Purchase Address\"] == \"Purcgase Address\"]"
      ],
      "execution_count": 8,
      "outputs": [
        {
          "output_type": "execute_result",
          "data": {
            "text/html": [
              "<div>\n",
              "<style scoped>\n",
              "    .dataframe tbody tr th:only-of-type {\n",
              "        vertical-align: middle;\n",
              "    }\n",
              "\n",
              "    .dataframe tbody tr th {\n",
              "        vertical-align: top;\n",
              "    }\n",
              "\n",
              "    .dataframe thead th {\n",
              "        text-align: right;\n",
              "    }\n",
              "</style>\n",
              "<table border=\"1\" class=\"dataframe\">\n",
              "  <thead>\n",
              "    <tr style=\"text-align: right;\">\n",
              "      <th></th>\n",
              "      <th>Order ID</th>\n",
              "      <th>Product</th>\n",
              "      <th>Quantity Ordered</th>\n",
              "      <th>Price Each</th>\n",
              "      <th>Order Date</th>\n",
              "      <th>Purchase Address</th>\n",
              "    </tr>\n",
              "  </thead>\n",
              "  <tbody>\n",
              "  </tbody>\n",
              "</table>\n",
              "</div>"
            ],
            "text/plain": [
              "Empty DataFrame\n",
              "Columns: [Order ID, Product, Quantity Ordered, Price Each, Order Date, Purchase Address]\n",
              "Index: []"
            ]
          },
          "metadata": {
            "tags": []
          },
          "execution_count": 8
        }
      ]
    },
    {
      "cell_type": "code",
      "metadata": {
        "id": "pI-AcC2XXWwv",
        "outputId": "7d1d6784-5d58-4d4e-c53a-1d30e60fd432",
        "colab": {
          "base_uri": "https://localhost:8080/"
        }
      },
      "source": [
        "# Adding More columns\n",
        "def get_city(text):\n",
        "  return text.split(\",\")[1].strip(\" \")\n",
        "def get_state(text):\n",
        "  return text.split(\",\")[2].split(\" \")[1].strip(\" \")\n",
        "\n",
        "dfCleaned[\"city\"] = dfCleaned[\"Purchase Address\"].apply(lambda text: f\"{get_city(text)}({get_state(text)})\")"
      ],
      "execution_count": 9,
      "outputs": [
        {
          "output_type": "stream",
          "text": [
            "/usr/local/lib/python3.6/dist-packages/ipykernel_launcher.py:7: SettingWithCopyWarning: \n",
            "A value is trying to be set on a copy of a slice from a DataFrame.\n",
            "Try using .loc[row_indexer,col_indexer] = value instead\n",
            "\n",
            "See the caveats in the documentation: https://pandas.pydata.org/pandas-docs/stable/user_guide/indexing.html#returning-a-view-versus-a-copy\n",
            "  import sys\n"
          ],
          "name": "stderr"
        }
      ]
    },
    {
      "cell_type": "code",
      "metadata": {
        "id": "zMTq1n7xcD0W",
        "outputId": "f4cfc379-caa1-4f0d-cea4-ee515210f06e",
        "colab": {
          "base_uri": "https://localhost:8080/",
          "height": 424
        }
      },
      "source": [
        "dfCleaned = dfCleaned.drop([\"Purchase Address\"],axis = 1)\n",
        "dfCleaned"
      ],
      "execution_count": 10,
      "outputs": [
        {
          "output_type": "execute_result",
          "data": {
            "text/html": [
              "<div>\n",
              "<style scoped>\n",
              "    .dataframe tbody tr th:only-of-type {\n",
              "        vertical-align: middle;\n",
              "    }\n",
              "\n",
              "    .dataframe tbody tr th {\n",
              "        vertical-align: top;\n",
              "    }\n",
              "\n",
              "    .dataframe thead th {\n",
              "        text-align: right;\n",
              "    }\n",
              "</style>\n",
              "<table border=\"1\" class=\"dataframe\">\n",
              "  <thead>\n",
              "    <tr style=\"text-align: right;\">\n",
              "      <th></th>\n",
              "      <th>Order ID</th>\n",
              "      <th>Product</th>\n",
              "      <th>Quantity Ordered</th>\n",
              "      <th>Price Each</th>\n",
              "      <th>Order Date</th>\n",
              "      <th>city</th>\n",
              "    </tr>\n",
              "  </thead>\n",
              "  <tbody>\n",
              "    <tr>\n",
              "      <th>0</th>\n",
              "      <td>141234</td>\n",
              "      <td>iPhone</td>\n",
              "      <td>1</td>\n",
              "      <td>700</td>\n",
              "      <td>01/22/19 21:25</td>\n",
              "      <td>Boston(MA)</td>\n",
              "    </tr>\n",
              "    <tr>\n",
              "      <th>1</th>\n",
              "      <td>141235</td>\n",
              "      <td>Lightning Charging Cable</td>\n",
              "      <td>1</td>\n",
              "      <td>14.95</td>\n",
              "      <td>01/28/19 14:15</td>\n",
              "      <td>Portland(OR)</td>\n",
              "    </tr>\n",
              "    <tr>\n",
              "      <th>2</th>\n",
              "      <td>141236</td>\n",
              "      <td>Wired Headphones</td>\n",
              "      <td>2</td>\n",
              "      <td>11.99</td>\n",
              "      <td>01/17/19 13:33</td>\n",
              "      <td>San Francisco(CA)</td>\n",
              "    </tr>\n",
              "    <tr>\n",
              "      <th>3</th>\n",
              "      <td>141237</td>\n",
              "      <td>27in FHD Monitor</td>\n",
              "      <td>1</td>\n",
              "      <td>149.99</td>\n",
              "      <td>01/05/19 20:33</td>\n",
              "      <td>Los Angeles(CA)</td>\n",
              "    </tr>\n",
              "    <tr>\n",
              "      <th>4</th>\n",
              "      <td>141238</td>\n",
              "      <td>Wired Headphones</td>\n",
              "      <td>1</td>\n",
              "      <td>11.99</td>\n",
              "      <td>01/25/19 11:59</td>\n",
              "      <td>Austin(TX)</td>\n",
              "    </tr>\n",
              "    <tr>\n",
              "      <th>...</th>\n",
              "      <td>...</td>\n",
              "      <td>...</td>\n",
              "      <td>...</td>\n",
              "      <td>...</td>\n",
              "      <td>...</td>\n",
              "      <td>...</td>\n",
              "    </tr>\n",
              "    <tr>\n",
              "      <th>15221</th>\n",
              "      <td>176554</td>\n",
              "      <td>Lightning Charging Cable</td>\n",
              "      <td>1</td>\n",
              "      <td>14.95</td>\n",
              "      <td>03/24/19 11:14</td>\n",
              "      <td>San Francisco(CA)</td>\n",
              "    </tr>\n",
              "    <tr>\n",
              "      <th>15222</th>\n",
              "      <td>176555</td>\n",
              "      <td>27in FHD Monitor</td>\n",
              "      <td>1</td>\n",
              "      <td>149.99</td>\n",
              "      <td>03/22/19 20:27</td>\n",
              "      <td>San Francisco(CA)</td>\n",
              "    </tr>\n",
              "    <tr>\n",
              "      <th>15223</th>\n",
              "      <td>176556</td>\n",
              "      <td>AAA Batteries (4-pack)</td>\n",
              "      <td>3</td>\n",
              "      <td>2.99</td>\n",
              "      <td>03/14/19 10:29</td>\n",
              "      <td>Los Angeles(CA)</td>\n",
              "    </tr>\n",
              "    <tr>\n",
              "      <th>15224</th>\n",
              "      <td>176557</td>\n",
              "      <td>iPhone</td>\n",
              "      <td>1</td>\n",
              "      <td>700</td>\n",
              "      <td>03/30/19 12:32</td>\n",
              "      <td>San Francisco(CA)</td>\n",
              "    </tr>\n",
              "    <tr>\n",
              "      <th>15225</th>\n",
              "      <td>176557</td>\n",
              "      <td>Lightning Charging Cable</td>\n",
              "      <td>1</td>\n",
              "      <td>14.95</td>\n",
              "      <td>03/30/19 12:32</td>\n",
              "      <td>San Francisco(CA)</td>\n",
              "    </tr>\n",
              "  </tbody>\n",
              "</table>\n",
              "<p>182735 rows × 6 columns</p>\n",
              "</div>"
            ],
            "text/plain": [
              "      Order ID                   Product  ...      Order Date               city\n",
              "0       141234                    iPhone  ...  01/22/19 21:25         Boston(MA)\n",
              "1       141235  Lightning Charging Cable  ...  01/28/19 14:15       Portland(OR)\n",
              "2       141236          Wired Headphones  ...  01/17/19 13:33  San Francisco(CA)\n",
              "3       141237          27in FHD Monitor  ...  01/05/19 20:33    Los Angeles(CA)\n",
              "4       141238          Wired Headphones  ...  01/25/19 11:59         Austin(TX)\n",
              "...        ...                       ...  ...             ...                ...\n",
              "15221   176554  Lightning Charging Cable  ...  03/24/19 11:14  San Francisco(CA)\n",
              "15222   176555          27in FHD Monitor  ...  03/22/19 20:27  San Francisco(CA)\n",
              "15223   176556    AAA Batteries (4-pack)  ...  03/14/19 10:29    Los Angeles(CA)\n",
              "15224   176557                    iPhone  ...  03/30/19 12:32  San Francisco(CA)\n",
              "15225   176557  Lightning Charging Cable  ...  03/30/19 12:32  San Francisco(CA)\n",
              "\n",
              "[182735 rows x 6 columns]"
            ]
          },
          "metadata": {
            "tags": []
          },
          "execution_count": 10
        }
      ]
    },
    {
      "cell_type": "code",
      "metadata": {
        "id": "90mSTGlHiVeU"
      },
      "source": [
        "# Grouping Data\n",
        "dfCleaned[\"ordertime\"] = dfCleaned[\"Order Date\"].str[-5:]\n",
        "dfCleaned[\"orderdate\"] = dfCleaned[\"Order Date\"].str[:8]\n",
        "dfCleaned[\"month\"] = dfCleaned[\"orderdate\"].str[0:2]\n",
        "dfCleaned.drop([\"Order Date\"],axis = 1, inplace = True)\n",
        "\n"
      ],
      "execution_count": 11,
      "outputs": []
    },
    {
      "cell_type": "code",
      "metadata": {
        "id": "5GdenUKEo0Fv",
        "outputId": "14252cc4-8d89-4940-aedb-82e791f35379",
        "colab": {
          "base_uri": "https://localhost:8080/",
          "height": 36
        }
      },
      "source": [
        "def ConvertToDate(dateee):\n",
        "  dateee = str(dateee)\n",
        "  dateee = re.sub(\"/\",\"-\",dateee)\n",
        "  return dateee\n",
        "\n",
        "\n",
        "ConvertToDate(\"01/02/03\") \n",
        "\n"
      ],
      "execution_count": 12,
      "outputs": [
        {
          "output_type": "execute_result",
          "data": {
            "application/vnd.google.colaboratory.intrinsic+json": {
              "type": "string"
            },
            "text/plain": [
              "'01-02-03'"
            ]
          },
          "metadata": {
            "tags": []
          },
          "execution_count": 12
        }
      ]
    },
    {
      "cell_type": "code",
      "metadata": {
        "id": "-BY2Knakl9BC"
      },
      "source": [
        "dfCleaned[\"day\"] = dfCleaned[\"orderdate\"].str[3:5]\n",
        "dfCleaned[\"orderdate\"] = dfCleaned[\"orderdate\"].apply(ConvertToDate)\n",
        "dfCleaned[\"orderdate\"] = pd.to_datetime(dfCleaned[\"orderdate\"])\n",
        "dfCleaned[\"isStartMonth\"] = dfCleaned[\"orderdate\"].dt.is_month_start\n",
        "dfCleaned[\"isEndMonth\"] = dfCleaned[\"orderdate\"].dt.is_month_end"
      ],
      "execution_count": 13,
      "outputs": []
    },
    {
      "cell_type": "code",
      "metadata": {
        "id": "3t7GjsySrf3s",
        "outputId": "ef3f5ee3-f546-42d9-b300-39f7e9ae631e",
        "colab": {
          "base_uri": "https://localhost:8080/"
        }
      },
      "source": [
        "dfCleaned[\"Sales\"] = dfCleaned[\"Quantity Ordered\"].astype(\"int\") * dfCleaned[\"Price Each\"].astype(\"float\")\n",
        "dfCleaned[\"Sales\"]"
      ],
      "execution_count": 14,
      "outputs": [
        {
          "output_type": "execute_result",
          "data": {
            "text/plain": [
              "0        700.00\n",
              "1         14.95\n",
              "2         23.98\n",
              "3        149.99\n",
              "4         11.99\n",
              "          ...  \n",
              "15221     14.95\n",
              "15222    149.99\n",
              "15223      8.97\n",
              "15224    700.00\n",
              "15225     14.95\n",
              "Name: Sales, Length: 182735, dtype: float64"
            ]
          },
          "metadata": {
            "tags": []
          },
          "execution_count": 14
        }
      ]
    },
    {
      "cell_type": "code",
      "metadata": {
        "id": "IS6DScCku-g3"
      },
      "source": [
        "dfCleaned.columns = [\"orderid\",\"product\",\"quantity_ordered\",\"price_each\",\"city\",\"ordertime\",\"orderdate\",\"month\",\"day\",\"isStartMonth\",\"isEndMonth\",\"Sales\"]"
      ],
      "execution_count": 15,
      "outputs": []
    },
    {
      "cell_type": "code",
      "metadata": {
        "id": "4TAkxghEu096"
      },
      "source": [
        "dfCleaned.quantity_ordered = dfCleaned[\"quantity_ordered\"].astype(\"int\")\n",
        "dfCleaned.price_each = dfCleaned[\"price_each\"].astype(\"float\")"
      ],
      "execution_count": 16,
      "outputs": []
    },
    {
      "cell_type": "code",
      "metadata": {
        "id": "gQBKq2WMwHqr",
        "outputId": "14290bc1-f89d-4310-d2da-40a017ab603d",
        "colab": {
          "base_uri": "https://localhost:8080/",
          "height": 457
        }
      },
      "source": [
        "dfCleaned.groupby([\"month\"]).sum()"
      ],
      "execution_count": 17,
      "outputs": [
        {
          "output_type": "execute_result",
          "data": {
            "text/html": [
              "<div>\n",
              "<style scoped>\n",
              "    .dataframe tbody tr th:only-of-type {\n",
              "        vertical-align: middle;\n",
              "    }\n",
              "\n",
              "    .dataframe tbody tr th {\n",
              "        vertical-align: top;\n",
              "    }\n",
              "\n",
              "    .dataframe thead th {\n",
              "        text-align: right;\n",
              "    }\n",
              "</style>\n",
              "<table border=\"1\" class=\"dataframe\">\n",
              "  <thead>\n",
              "    <tr style=\"text-align: right;\">\n",
              "      <th></th>\n",
              "      <th>quantity_ordered</th>\n",
              "      <th>price_each</th>\n",
              "      <th>isStartMonth</th>\n",
              "      <th>isEndMonth</th>\n",
              "      <th>Sales</th>\n",
              "    </tr>\n",
              "    <tr>\n",
              "      <th>month</th>\n",
              "      <th></th>\n",
              "      <th></th>\n",
              "      <th></th>\n",
              "      <th></th>\n",
              "      <th></th>\n",
              "    </tr>\n",
              "  </thead>\n",
              "  <tbody>\n",
              "    <tr>\n",
              "      <th>01</th>\n",
              "      <td>10670</td>\n",
              "      <td>1.776156e+06</td>\n",
              "      <td>330</td>\n",
              "      <td>271</td>\n",
              "      <td>1.786511e+06</td>\n",
              "    </tr>\n",
              "    <tr>\n",
              "      <th>02</th>\n",
              "      <td>13162</td>\n",
              "      <td>2.145209e+06</td>\n",
              "      <td>405</td>\n",
              "      <td>397</td>\n",
              "      <td>2.158127e+06</td>\n",
              "    </tr>\n",
              "    <tr>\n",
              "      <th>03</th>\n",
              "      <td>16697</td>\n",
              "      <td>2.740393e+06</td>\n",
              "      <td>460</td>\n",
              "      <td>459</td>\n",
              "      <td>2.755969e+06</td>\n",
              "    </tr>\n",
              "    <tr>\n",
              "      <th>04</th>\n",
              "      <td>20226</td>\n",
              "      <td>3.313522e+06</td>\n",
              "      <td>596</td>\n",
              "      <td>617</td>\n",
              "      <td>3.336376e+06</td>\n",
              "    </tr>\n",
              "    <tr>\n",
              "      <th>05</th>\n",
              "      <td>18344</td>\n",
              "      <td>3.084756e+06</td>\n",
              "      <td>509</td>\n",
              "      <td>465</td>\n",
              "      <td>3.101881e+06</td>\n",
              "    </tr>\n",
              "    <tr>\n",
              "      <th>06</th>\n",
              "      <td>14964</td>\n",
              "      <td>2.508863e+06</td>\n",
              "      <td>447</td>\n",
              "      <td>437</td>\n",
              "      <td>2.524465e+06</td>\n",
              "    </tr>\n",
              "    <tr>\n",
              "      <th>07</th>\n",
              "      <td>15781</td>\n",
              "      <td>2.572765e+06</td>\n",
              "      <td>469</td>\n",
              "      <td>475</td>\n",
              "      <td>2.587445e+06</td>\n",
              "    </tr>\n",
              "    <tr>\n",
              "      <th>08</th>\n",
              "      <td>13185</td>\n",
              "      <td>2.178184e+06</td>\n",
              "      <td>364</td>\n",
              "      <td>412</td>\n",
              "      <td>2.191698e+06</td>\n",
              "    </tr>\n",
              "    <tr>\n",
              "      <th>09</th>\n",
              "      <td>12827</td>\n",
              "      <td>2.038020e+06</td>\n",
              "      <td>372</td>\n",
              "      <td>373</td>\n",
              "      <td>2.050361e+06</td>\n",
              "    </tr>\n",
              "    <tr>\n",
              "      <th>10</th>\n",
              "      <td>22356</td>\n",
              "      <td>3.658885e+06</td>\n",
              "      <td>634</td>\n",
              "      <td>664</td>\n",
              "      <td>3.679254e+06</td>\n",
              "    </tr>\n",
              "    <tr>\n",
              "      <th>11</th>\n",
              "      <td>19479</td>\n",
              "      <td>3.130969e+06</td>\n",
              "      <td>592</td>\n",
              "      <td>589</td>\n",
              "      <td>3.149785e+06</td>\n",
              "    </tr>\n",
              "    <tr>\n",
              "      <th>12</th>\n",
              "      <td>27764</td>\n",
              "      <td>4.533152e+06</td>\n",
              "      <td>768</td>\n",
              "      <td>753</td>\n",
              "      <td>4.557905e+06</td>\n",
              "    </tr>\n",
              "  </tbody>\n",
              "</table>\n",
              "</div>"
            ],
            "text/plain": [
              "       quantity_ordered    price_each  isStartMonth  isEndMonth         Sales\n",
              "month                                                                        \n",
              "01                10670  1.776156e+06           330         271  1.786511e+06\n",
              "02                13162  2.145209e+06           405         397  2.158127e+06\n",
              "03                16697  2.740393e+06           460         459  2.755969e+06\n",
              "04                20226  3.313522e+06           596         617  3.336376e+06\n",
              "05                18344  3.084756e+06           509         465  3.101881e+06\n",
              "06                14964  2.508863e+06           447         437  2.524465e+06\n",
              "07                15781  2.572765e+06           469         475  2.587445e+06\n",
              "08                13185  2.178184e+06           364         412  2.191698e+06\n",
              "09                12827  2.038020e+06           372         373  2.050361e+06\n",
              "10                22356  3.658885e+06           634         664  3.679254e+06\n",
              "11                19479  3.130969e+06           592         589  3.149785e+06\n",
              "12                27764  4.533152e+06           768         753  4.557905e+06"
            ]
          },
          "metadata": {
            "tags": []
          },
          "execution_count": 17
        }
      ]
    },
    {
      "cell_type": "markdown",
      "metadata": {
        "id": "QafW2IITbSzF"
      },
      "source": [
        "From there we know that for these months[04 , 10 , 12] have 20K Quantity ordered, because in dec it has a lot special events ,such as christmas, end of the year . For  04 and 10 i dont know yet what caused these ."
      ]
    },
    {
      "cell_type": "code",
      "metadata": {
        "id": "tXWcoi6YrCHW",
        "outputId": "66eaf3ec-42f8-4f75-bbc7-497e13ce7d71",
        "colab": {
          "base_uri": "https://localhost:8080/",
          "height": 457
        }
      },
      "source": [
        "dfCleaned.groupby([\"month\"]).aggregate({np.sum,np.mean,np.median})[\"Sales\"]"
      ],
      "execution_count": 18,
      "outputs": [
        {
          "output_type": "execute_result",
          "data": {
            "text/html": [
              "<div>\n",
              "<style scoped>\n",
              "    .dataframe tbody tr th:only-of-type {\n",
              "        vertical-align: middle;\n",
              "    }\n",
              "\n",
              "    .dataframe tbody tr th {\n",
              "        vertical-align: top;\n",
              "    }\n",
              "\n",
              "    .dataframe thead th {\n",
              "        text-align: right;\n",
              "    }\n",
              "</style>\n",
              "<table border=\"1\" class=\"dataframe\">\n",
              "  <thead>\n",
              "    <tr style=\"text-align: right;\">\n",
              "      <th></th>\n",
              "      <th>median</th>\n",
              "      <th>mean</th>\n",
              "      <th>sum</th>\n",
              "    </tr>\n",
              "    <tr>\n",
              "      <th>month</th>\n",
              "      <th></th>\n",
              "      <th></th>\n",
              "      <th></th>\n",
              "    </tr>\n",
              "  </thead>\n",
              "  <tbody>\n",
              "    <tr>\n",
              "      <th>01</th>\n",
              "      <td>14.95</td>\n",
              "      <td>188.053820</td>\n",
              "      <td>1.786511e+06</td>\n",
              "    </tr>\n",
              "    <tr>\n",
              "      <th>02</th>\n",
              "      <td>14.95</td>\n",
              "      <td>184.046348</td>\n",
              "      <td>2.158127e+06</td>\n",
              "    </tr>\n",
              "    <tr>\n",
              "      <th>03</th>\n",
              "      <td>14.95</td>\n",
              "      <td>185.113474</td>\n",
              "      <td>2.755969e+06</td>\n",
              "    </tr>\n",
              "    <tr>\n",
              "      <th>04</th>\n",
              "      <td>14.95</td>\n",
              "      <td>185.519151</td>\n",
              "      <td>3.336376e+06</td>\n",
              "    </tr>\n",
              "    <tr>\n",
              "      <th>05</th>\n",
              "      <td>14.95</td>\n",
              "      <td>190.486431</td>\n",
              "      <td>3.101881e+06</td>\n",
              "    </tr>\n",
              "    <tr>\n",
              "      <th>06</th>\n",
              "      <td>14.95</td>\n",
              "      <td>189.923638</td>\n",
              "      <td>2.524465e+06</td>\n",
              "    </tr>\n",
              "    <tr>\n",
              "      <th>07</th>\n",
              "      <td>14.95</td>\n",
              "      <td>184.396017</td>\n",
              "      <td>2.587445e+06</td>\n",
              "    </tr>\n",
              "    <tr>\n",
              "      <th>08</th>\n",
              "      <td>14.95</td>\n",
              "      <td>187.020933</td>\n",
              "      <td>2.191698e+06</td>\n",
              "    </tr>\n",
              "    <tr>\n",
              "      <th>09</th>\n",
              "      <td>14.95</td>\n",
              "      <td>180.251539</td>\n",
              "      <td>2.050361e+06</td>\n",
              "    </tr>\n",
              "    <tr>\n",
              "      <th>10</th>\n",
              "      <td>14.95</td>\n",
              "      <td>184.211393</td>\n",
              "      <td>3.679254e+06</td>\n",
              "    </tr>\n",
              "    <tr>\n",
              "      <th>11</th>\n",
              "      <td>14.95</td>\n",
              "      <td>182.258135</td>\n",
              "      <td>3.149785e+06</td>\n",
              "    </tr>\n",
              "    <tr>\n",
              "      <th>12</th>\n",
              "      <td>14.95</td>\n",
              "      <td>184.680122</td>\n",
              "      <td>4.557905e+06</td>\n",
              "    </tr>\n",
              "  </tbody>\n",
              "</table>\n",
              "</div>"
            ],
            "text/plain": [
              "       median        mean           sum\n",
              "month                                  \n",
              "01      14.95  188.053820  1.786511e+06\n",
              "02      14.95  184.046348  2.158127e+06\n",
              "03      14.95  185.113474  2.755969e+06\n",
              "04      14.95  185.519151  3.336376e+06\n",
              "05      14.95  190.486431  3.101881e+06\n",
              "06      14.95  189.923638  2.524465e+06\n",
              "07      14.95  184.396017  2.587445e+06\n",
              "08      14.95  187.020933  2.191698e+06\n",
              "09      14.95  180.251539  2.050361e+06\n",
              "10      14.95  184.211393  3.679254e+06\n",
              "11      14.95  182.258135  3.149785e+06\n",
              "12      14.95  184.680122  4.557905e+06"
            ]
          },
          "metadata": {
            "tags": []
          },
          "execution_count": 18
        }
      ]
    },
    {
      "cell_type": "code",
      "metadata": {
        "id": "xsVanA5CtovU",
        "outputId": "75149391-2fb5-4b3d-d6df-129bb8ac880c",
        "colab": {
          "base_uri": "https://localhost:8080/",
          "height": 457
        }
      },
      "source": [
        "dfCleaned.groupby([\"month\"]).aggregate({max,min})[\"Sales\"]"
      ],
      "execution_count": 19,
      "outputs": [
        {
          "output_type": "execute_result",
          "data": {
            "text/html": [
              "<div>\n",
              "<style scoped>\n",
              "    .dataframe tbody tr th:only-of-type {\n",
              "        vertical-align: middle;\n",
              "    }\n",
              "\n",
              "    .dataframe tbody tr th {\n",
              "        vertical-align: top;\n",
              "    }\n",
              "\n",
              "    .dataframe thead th {\n",
              "        text-align: right;\n",
              "    }\n",
              "</style>\n",
              "<table border=\"1\" class=\"dataframe\">\n",
              "  <thead>\n",
              "    <tr style=\"text-align: right;\">\n",
              "      <th></th>\n",
              "      <th>min</th>\n",
              "      <th>max</th>\n",
              "    </tr>\n",
              "    <tr>\n",
              "      <th>month</th>\n",
              "      <th></th>\n",
              "      <th></th>\n",
              "    </tr>\n",
              "  </thead>\n",
              "  <tbody>\n",
              "    <tr>\n",
              "      <th>01</th>\n",
              "      <td>2.99</td>\n",
              "      <td>1999.98</td>\n",
              "    </tr>\n",
              "    <tr>\n",
              "      <th>02</th>\n",
              "      <td>2.99</td>\n",
              "      <td>1700.00</td>\n",
              "    </tr>\n",
              "    <tr>\n",
              "      <th>03</th>\n",
              "      <td>2.99</td>\n",
              "      <td>1700.00</td>\n",
              "    </tr>\n",
              "    <tr>\n",
              "      <th>04</th>\n",
              "      <td>2.99</td>\n",
              "      <td>3400.00</td>\n",
              "    </tr>\n",
              "    <tr>\n",
              "      <th>05</th>\n",
              "      <td>2.99</td>\n",
              "      <td>3400.00</td>\n",
              "    </tr>\n",
              "    <tr>\n",
              "      <th>06</th>\n",
              "      <td>2.99</td>\n",
              "      <td>3400.00</td>\n",
              "    </tr>\n",
              "    <tr>\n",
              "      <th>07</th>\n",
              "      <td>2.99</td>\n",
              "      <td>1700.00</td>\n",
              "    </tr>\n",
              "    <tr>\n",
              "      <th>08</th>\n",
              "      <td>2.99</td>\n",
              "      <td>1700.00</td>\n",
              "    </tr>\n",
              "    <tr>\n",
              "      <th>09</th>\n",
              "      <td>2.99</td>\n",
              "      <td>1700.00</td>\n",
              "    </tr>\n",
              "    <tr>\n",
              "      <th>10</th>\n",
              "      <td>2.99</td>\n",
              "      <td>1999.98</td>\n",
              "    </tr>\n",
              "    <tr>\n",
              "      <th>11</th>\n",
              "      <td>2.99</td>\n",
              "      <td>1700.00</td>\n",
              "    </tr>\n",
              "    <tr>\n",
              "      <th>12</th>\n",
              "      <td>2.99</td>\n",
              "      <td>1700.00</td>\n",
              "    </tr>\n",
              "  </tbody>\n",
              "</table>\n",
              "</div>"
            ],
            "text/plain": [
              "        min      max\n",
              "month               \n",
              "01     2.99  1999.98\n",
              "02     2.99  1700.00\n",
              "03     2.99  1700.00\n",
              "04     2.99  3400.00\n",
              "05     2.99  3400.00\n",
              "06     2.99  3400.00\n",
              "07     2.99  1700.00\n",
              "08     2.99  1700.00\n",
              "09     2.99  1700.00\n",
              "10     2.99  1999.98\n",
              "11     2.99  1700.00\n",
              "12     2.99  1700.00"
            ]
          },
          "metadata": {
            "tags": []
          },
          "execution_count": 19
        }
      ]
    },
    {
      "cell_type": "code",
      "metadata": {
        "id": "TX5bQ6A-xI08",
        "outputId": "b576a0c7-7545-4cbc-fcd2-41476016ba12",
        "colab": {
          "base_uri": "https://localhost:8080/"
        }
      },
      "source": [
        "len(dfCleaned.groupby([\"day\"]).head(1)) "
      ],
      "execution_count": 20,
      "outputs": [
        {
          "output_type": "execute_result",
          "data": {
            "text/plain": [
              "31"
            ]
          },
          "metadata": {
            "tags": []
          },
          "execution_count": 20
        }
      ]
    },
    {
      "cell_type": "code",
      "metadata": {
        "id": "AsfKUQx9xTSC"
      },
      "source": [
        "SkecthIt1 = dfCleaned.groupby(['day']).aggregate({np.sum,np.mean,np.median})[[\"quantity_ordered\",\"Sales\"]]"
      ],
      "execution_count": 23,
      "outputs": []
    },
    {
      "cell_type": "code",
      "metadata": {
        "id": "PR9itiD2uEvQ",
        "outputId": "ca5292ad-bd12-4d17-e4a0-db6e786d57a2",
        "colab": {
          "base_uri": "https://localhost:8080/",
          "height": 422
        }
      },
      "source": [
        "plt.figure(figsize=(8,6))\n",
        "plt.plot(SkecthIt1[(\"Sales\",\"sum\")])\n",
        "plt.title(\"Sales Per day for 1 years\")\n",
        "plt.xlabel ( 'Days' )\n",
        "plt.ylabel (\"Total in 1K\")"
      ],
      "execution_count": 36,
      "outputs": [
        {
          "output_type": "execute_result",
          "data": {
            "text/plain": [
              "Text(0, 0.5, 'Total in 1K')"
            ]
          },
          "metadata": {
            "tags": []
          },
          "execution_count": 36
        },
        {
          "output_type": "display_data",
          "data": {
            "image/png": "[encoded data removed]",
            "text/plain": [
              "<Figure size 576x432 with 1 Axes>"
            ]
          },
          "metadata": {
            "tags": [],
            "needs_background": "light"
          }
        }
      ]
    },
    {
      "cell_type": "code",
      "metadata": {
        "id": "9f2T8E9KeN3f",
        "outputId": "f96230d2-3b35-4807-c313-ce00e1c91e01",
        "colab": {
          "base_uri": "https://localhost:8080/",
          "height": 350
        }
      },
      "source": [
        "SkecthIt2 = dfCleaned.groupby([\"month\"]).aggregate({np.sum,np.mean,np.median})\n",
        "fig, ax  = plt.subplots(1,1)\n",
        "ax.bar(np.unique(dfCleaned[\"month\"].values),SkecthIt2[(\"Sales\",\"sum\")])\n",
        "ax.set(title = \"Months Sales For 2019 \", xlabel = \"Months\" , ylabel = \"Total Sales in Usd\")"
      ],
      "execution_count": 45,
      "outputs": [
        {
          "output_type": "execute_result",
          "data": {
            "text/plain": [
              "[Text(0, 0.5, 'Total Sales in Usd'),\n",
              " Text(0.5, 0, 'Months'),\n",
              " Text(0.5, 1.0, 'Months Sales For 2019 ')]"
            ]
          },
          "metadata": {
            "tags": []
          },
          "execution_count": 45
        },
        {
          "output_type": "display_data",
          "data": {
            "image/png": "[encoded data removed]",
            "text/plain": [
              "<Figure size 432x288 with 1 Axes>"
            ]
          },
          "metadata": {
            "tags": [],
            "needs_background": "light"
          }
        }
      ]
    },
    {
      "cell_type": "code",
      "metadata": {
        "id": "Xf-WqX-Ge2HH",
        "outputId": "304ea65a-9159-4048-e236-ca69b982cfe6",
        "colab": {
          "base_uri": "https://localhost:8080/",
          "height": 777
        }
      },
      "source": [
        "SkecthIt3 = dfCleaned.groupby([\"city\"]).aggregate({np.sum,np.median,np.mean})\n",
        "fig, ax = plt.subplots ( 1, 1, figsize = (6,8))\n",
        "ax.bar(np.unique(dfCleaned['city'].values) , SkecthIt3[(\"Sales\",\"sum\")])\n",
        "ax.set(title = \"City Total Sales\",xlabel = 'City' ,ylabel = \"Total sales in usd\" )\n",
        "ax.set_xticklabels(labels = np.unique(dfCleaned[\"city\"].values),rotation = \"vertical\")\n",
        "\n"
      ],
      "execution_count": 68,
      "outputs": [
        {
          "output_type": "execute_result",
          "data": {
            "text/plain": [
              "[Text(0, 0, 'Atlanta(GA)'),\n",
              " Text(0, 0, 'Austin(TX)'),\n",
              " Text(0, 0, 'Boston(MA)'),\n",
              " Text(0, 0, 'Dallas(TX)'),\n",
              " Text(0, 0, 'Los Angeles(CA)'),\n",
              " Text(0, 0, 'New York City(NY)'),\n",
              " Text(0, 0, 'Portland(ME)'),\n",
              " Text(0, 0, 'Portland(OR)'),\n",
              " Text(0, 0, 'San Francisco(CA)'),\n",
              " Text(0, 0, 'Seattle(WA)')]"
            ]
          },
          "metadata": {
            "tags": []
          },
          "execution_count": 68
        },
        {
          "output_type": "display_data",
          "data": {
            "image/png": "[encoded data removed]",
            "text/plain": [
              "<Figure size 432x576 with 1 Axes>"
            ]
          },
          "metadata": {
            "tags": [],
            "needs_background": "light"
          }
        }
      ]
    },
    {
      "cell_type": "code",
      "metadata": {
        "id": "MyRI93HakR5x",
        "outputId": "dde6f26a-d340-4bea-c701-70e1c8ae95e4",
        "colab": {
          "base_uri": "https://localhost:8080/",
          "height": 81
        }
      },
      "source": [
        "dfCleaned[\"Hour\"] = dfCleaned[\"ordertime\"].str[0:2]\n",
        "dfCleaned[\"Minute\"] = dfCleaned[\"ordertime\"].str[3:5]\n",
        "dfCleaned.head(1)[[\"Hour\",\"Minute\"]]"
      ],
      "execution_count": 72,
      "outputs": [
        {
          "output_type": "execute_result",
          "data": {
            "text/html": [
              "<div>\n",
              "<style scoped>\n",
              "    .dataframe tbody tr th:only-of-type {\n",
              "        vertical-align: middle;\n",
              "    }\n",
              "\n",
              "    .dataframe tbody tr th {\n",
              "        vertical-align: top;\n",
              "    }\n",
              "\n",
              "    .dataframe thead th {\n",
              "        text-align: right;\n",
              "    }\n",
              "</style>\n",
              "<table border=\"1\" class=\"dataframe\">\n",
              "  <thead>\n",
              "    <tr style=\"text-align: right;\">\n",
              "      <th></th>\n",
              "      <th>Hour</th>\n",
              "      <th>Minute</th>\n",
              "    </tr>\n",
              "  </thead>\n",
              "  <tbody>\n",
              "    <tr>\n",
              "      <th>0</th>\n",
              "      <td>21</td>\n",
              "      <td>25</td>\n",
              "    </tr>\n",
              "  </tbody>\n",
              "</table>\n",
              "</div>"
            ],
            "text/plain": [
              "  Hour Minute\n",
              "0   21     25"
            ]
          },
          "metadata": {
            "tags": []
          },
          "execution_count": 72
        }
      ]
    },
    {
      "cell_type": "code",
      "metadata": {
        "id": "Sdqej5l_kxTj",
        "outputId": "f9014b39-f189-41e3-918a-650802dbf562",
        "colab": {
          "base_uri": "https://localhost:8080/",
          "height": 954
        }
      },
      "source": [
        "SkecthIt4 = dfCleaned.groupby([\"Hour\"]).aggregate({np.sum,np.median,np.mean})\n",
        "fig,ax = plt.subplots(1,1, figsize = (10,8))\n",
        "ax.bar(np.unique(dfCleaned[\"Hour\"].values), SkecthIt4[(\"Sales\",\"sum\")])\n",
        "ax.set(title = \"Hour Sales\",xlabel = \"Hours\" , ylabel = \"Total sales in USD\")\n",
        "ax.set_xticklabels(labels = np.unique(dfCleaned[\"Hour\"].values), rotation = \"vertical\" , size = 8)\n"
      ],
      "execution_count": 76,
      "outputs": [
        {
          "output_type": "execute_result",
          "data": {
            "text/plain": [
              "[Text(0, 0, '00'),\n",
              " Text(0, 0, '01'),\n",
              " Text(0, 0, '02'),\n",
              " Text(0, 0, '03'),\n",
              " Text(0, 0, '04'),\n",
              " Text(0, 0, '05'),\n",
              " Text(0, 0, '06'),\n",
              " Text(0, 0, '07'),\n",
              " Text(0, 0, '08'),\n",
              " Text(0, 0, '09'),\n",
              " Text(0, 0, '10'),\n",
              " Text(0, 0, '11'),\n",
              " Text(0, 0, '12'),\n",
              " Text(0, 0, '13'),\n",
              " Text(0, 0, '14'),\n",
              " Text(0, 0, '15'),\n",
              " Text(0, 0, '16'),\n",
              " Text(0, 0, '17'),\n",
              " Text(0, 0, '18'),\n",
              " Text(0, 0, '19'),\n",
              " Text(0, 0, '20'),\n",
              " Text(0, 0, '21'),\n",
              " Text(0, 0, '22'),\n",
              " Text(0, 0, '23')]"
            ]
          },
          "metadata": {
            "tags": []
          },
          "execution_count": 76
        },
        {
          "output_type": "display_data",
          "data": {
            "image/png": "[encoded data removed]",
            "text/plain": [
              "<Figure size 720x576 with 1 Axes>"
            ]
          },
          "metadata": {
            "tags": [],
            "needs_background": "light"
          }
        }
      ]
    },
    {
      "cell_type": "code",
      "metadata": {
        "id": "9G2Xq1oHmESz",
        "outputId": "45e20ae2-33ba-4337-947f-a3f4a9d3f84c",
        "colab": {
          "base_uri": "https://localhost:8080/",
          "height": 848
        }
      },
      "source": [
        "fig,ax = plt.subplots(1,1, figsize = (10,6))\n",
        "ax.plot(np.unique(dfCleaned[\"Hour\"].values), SkecthIt4[(\"Sales\",\"sum\")])\n",
        "ax.set(title = \"Hours Sales\" , xlabel = \"Hours\" , ylabel = \"Total Sales in USD\")\n",
        "ax.set_xticklabels(labels = np.unique(dfCleaned[\"Hour\"].values),rotation = \"vertical\")"
      ],
      "execution_count": 86,
      "outputs": [
        {
          "output_type": "execute_result",
          "data": {
            "text/plain": [
              "[Text(0, 0, '00'),\n",
              " Text(0, 0, '01'),\n",
              " Text(0, 0, '02'),\n",
              " Text(0, 0, '03'),\n",
              " Text(0, 0, '04'),\n",
              " Text(0, 0, '05'),\n",
              " Text(0, 0, '06'),\n",
              " Text(0, 0, '07'),\n",
              " Text(0, 0, '08'),\n",
              " Text(0, 0, '09'),\n",
              " Text(0, 0, '10'),\n",
              " Text(0, 0, '11'),\n",
              " Text(0, 0, '12'),\n",
              " Text(0, 0, '13'),\n",
              " Text(0, 0, '14'),\n",
              " Text(0, 0, '15'),\n",
              " Text(0, 0, '16'),\n",
              " Text(0, 0, '17'),\n",
              " Text(0, 0, '18'),\n",
              " Text(0, 0, '19'),\n",
              " Text(0, 0, '20'),\n",
              " Text(0, 0, '21'),\n",
              " Text(0, 0, '22'),\n",
              " Text(0, 0, '23')]"
            ]
          },
          "metadata": {
            "tags": []
          },
          "execution_count": 86
        },
        {
          "output_type": "display_data",
          "data": {
            "image/png": "[encoded data removed]",
            "text/plain": [
              "<Figure size 720x432 with 1 Axes>"
            ]
          },
          "metadata": {
            "tags": [],
            "needs_background": "light"
          }
        }
      ]
    },
    {
      "cell_type": "code",
      "metadata": {
        "id": "d9J077szol_w",
        "outputId": "e4c1f595-5b05-4e68-e304-5b0eb49511b7",
        "colab": {
          "base_uri": "https://localhost:8080/",
          "height": 81
        }
      },
      "source": [
        "dfCleaned.head(1)"
      ],
      "execution_count": 88,
      "outputs": [
        {
          "output_type": "execute_result",
          "data": {
            "text/html": [
              "<div>\n",
              "<style scoped>\n",
              "    .dataframe tbody tr th:only-of-type {\n",
              "        vertical-align: middle;\n",
              "    }\n",
              "\n",
              "    .dataframe tbody tr th {\n",
              "        vertical-align: top;\n",
              "    }\n",
              "\n",
              "    .dataframe thead th {\n",
              "        text-align: right;\n",
              "    }\n",
              "</style>\n",
              "<table border=\"1\" class=\"dataframe\">\n",
              "  <thead>\n",
              "    <tr style=\"text-align: right;\">\n",
              "      <th></th>\n",
              "      <th>orderid</th>\n",
              "      <th>product</th>\n",
              "      <th>quantity_ordered</th>\n",
              "      <th>price_each</th>\n",
              "      <th>city</th>\n",
              "      <th>ordertime</th>\n",
              "      <th>orderdate</th>\n",
              "      <th>month</th>\n",
              "      <th>day</th>\n",
              "      <th>isStartMonth</th>\n",
              "      <th>isEndMonth</th>\n",
              "      <th>Sales</th>\n",
              "      <th>Hour</th>\n",
              "      <th>Minute</th>\n",
              "    </tr>\n",
              "  </thead>\n",
              "  <tbody>\n",
              "    <tr>\n",
              "      <th>0</th>\n",
              "      <td>141234</td>\n",
              "      <td>iPhone</td>\n",
              "      <td>1</td>\n",
              "      <td>700.0</td>\n",
              "      <td>Boston(MA)</td>\n",
              "      <td>21:25</td>\n",
              "      <td>2019-01-22</td>\n",
              "      <td>01</td>\n",
              "      <td>22</td>\n",
              "      <td>False</td>\n",
              "      <td>False</td>\n",
              "      <td>700.0</td>\n",
              "      <td>21</td>\n",
              "      <td>25</td>\n",
              "    </tr>\n",
              "  </tbody>\n",
              "</table>\n",
              "</div>"
            ],
            "text/plain": [
              "  orderid product  quantity_ordered  price_each  ... isEndMonth  Sales Hour Minute\n",
              "0  141234  iPhone                 1       700.0  ...      False  700.0   21     25\n",
              "\n",
              "[1 rows x 14 columns]"
            ]
          },
          "metadata": {
            "tags": []
          },
          "execution_count": 88
        }
      ]
    },
    {
      "cell_type": "code",
      "metadata": {
        "id": "n-nqIwrvoDvu",
        "outputId": "c1e67338-23da-4f31-98e3-5caece1dc02b",
        "colab": {
          "base_uri": "https://localhost:8080/",
          "height": 276
        }
      },
      "source": [
        "NODuplicateDf = dfCleaned[dfCleaned[\"orderid\"].duplicated(keep = False)]\n",
        "NODuplicateDf.head()"
      ],
      "execution_count": 91,
      "outputs": [
        {
          "output_type": "execute_result",
          "data": {
            "text/html": [
              "<div>\n",
              "<style scoped>\n",
              "    .dataframe tbody tr th:only-of-type {\n",
              "        vertical-align: middle;\n",
              "    }\n",
              "\n",
              "    .dataframe tbody tr th {\n",
              "        vertical-align: top;\n",
              "    }\n",
              "\n",
              "    .dataframe thead th {\n",
              "        text-align: right;\n",
              "    }\n",
              "</style>\n",
              "<table border=\"1\" class=\"dataframe\">\n",
              "  <thead>\n",
              "    <tr style=\"text-align: right;\">\n",
              "      <th></th>\n",
              "      <th>orderid</th>\n",
              "      <th>product</th>\n",
              "      <th>quantity_ordered</th>\n",
              "      <th>price_each</th>\n",
              "      <th>city</th>\n",
              "      <th>ordertime</th>\n",
              "      <th>orderdate</th>\n",
              "      <th>month</th>\n",
              "      <th>day</th>\n",
              "      <th>isStartMonth</th>\n",
              "      <th>isEndMonth</th>\n",
              "      <th>Sales</th>\n",
              "      <th>Hour</th>\n",
              "      <th>Minute</th>\n",
              "    </tr>\n",
              "  </thead>\n",
              "  <tbody>\n",
              "    <tr>\n",
              "      <th>41</th>\n",
              "      <td>141275</td>\n",
              "      <td>USB-C Charging Cable</td>\n",
              "      <td>1</td>\n",
              "      <td>11.95</td>\n",
              "      <td>Austin(TX)</td>\n",
              "      <td>16:06</td>\n",
              "      <td>2019-01-07</td>\n",
              "      <td>01</td>\n",
              "      <td>07</td>\n",
              "      <td>False</td>\n",
              "      <td>False</td>\n",
              "      <td>11.95</td>\n",
              "      <td>16</td>\n",
              "      <td>06</td>\n",
              "    </tr>\n",
              "    <tr>\n",
              "      <th>42</th>\n",
              "      <td>141275</td>\n",
              "      <td>Wired Headphones</td>\n",
              "      <td>1</td>\n",
              "      <td>11.99</td>\n",
              "      <td>Austin(TX)</td>\n",
              "      <td>16:06</td>\n",
              "      <td>2019-01-07</td>\n",
              "      <td>01</td>\n",
              "      <td>07</td>\n",
              "      <td>False</td>\n",
              "      <td>False</td>\n",
              "      <td>11.99</td>\n",
              "      <td>16</td>\n",
              "      <td>06</td>\n",
              "    </tr>\n",
              "    <tr>\n",
              "      <th>57</th>\n",
              "      <td>141290</td>\n",
              "      <td>Apple Airpods Headphones</td>\n",
              "      <td>1</td>\n",
              "      <td>150.00</td>\n",
              "      <td>Los Angeles(CA)</td>\n",
              "      <td>08:25</td>\n",
              "      <td>2019-01-02</td>\n",
              "      <td>01</td>\n",
              "      <td>02</td>\n",
              "      <td>False</td>\n",
              "      <td>False</td>\n",
              "      <td>150.00</td>\n",
              "      <td>08</td>\n",
              "      <td>25</td>\n",
              "    </tr>\n",
              "    <tr>\n",
              "      <th>58</th>\n",
              "      <td>141290</td>\n",
              "      <td>AA Batteries (4-pack)</td>\n",
              "      <td>3</td>\n",
              "      <td>3.84</td>\n",
              "      <td>Los Angeles(CA)</td>\n",
              "      <td>08:25</td>\n",
              "      <td>2019-01-02</td>\n",
              "      <td>01</td>\n",
              "      <td>02</td>\n",
              "      <td>False</td>\n",
              "      <td>False</td>\n",
              "      <td>11.52</td>\n",
              "      <td>08</td>\n",
              "      <td>25</td>\n",
              "    </tr>\n",
              "    <tr>\n",
              "      <th>133</th>\n",
              "      <td>141365</td>\n",
              "      <td>Vareebadd Phone</td>\n",
              "      <td>1</td>\n",
              "      <td>400.00</td>\n",
              "      <td>New York City(NY)</td>\n",
              "      <td>11:19</td>\n",
              "      <td>2019-01-10</td>\n",
              "      <td>01</td>\n",
              "      <td>10</td>\n",
              "      <td>False</td>\n",
              "      <td>False</td>\n",
              "      <td>400.00</td>\n",
              "      <td>11</td>\n",
              "      <td>19</td>\n",
              "    </tr>\n",
              "  </tbody>\n",
              "</table>\n",
              "</div>"
            ],
            "text/plain": [
              "    orderid                   product  quantity_ordered  ...   Sales Hour Minute\n",
              "41   141275      USB-C Charging Cable                 1  ...   11.95   16     06\n",
              "42   141275          Wired Headphones                 1  ...   11.99   16     06\n",
              "57   141290  Apple Airpods Headphones                 1  ...  150.00   08     25\n",
              "58   141290     AA Batteries (4-pack)                 3  ...   11.52   08     25\n",
              "133  141365           Vareebadd Phone                 1  ...  400.00   11     19\n",
              "\n",
              "[5 rows x 14 columns]"
            ]
          },
          "metadata": {
            "tags": []
          },
          "execution_count": 91
        }
      ]
    },
    {
      "cell_type": "code",
      "metadata": {
        "id": "blhUZw6zpVaX"
      },
      "source": [
        "Sketchit5 = NODuplicateDf.groupby([\"orderid\"])[\"product\"].apply(lambda text : \",\".join(text))"
      ],
      "execution_count": 101,
      "outputs": []
    },
    {
      "cell_type": "code",
      "metadata": {
        "id": "wD-O-5H1q4Hh"
      },
      "source": [
        "def count_it_m8(data):\n",
        "  datanya = {}\n",
        "  for keys, val in data.items():\n",
        "    val = val.lower()\n",
        "    if val not in datanya:\n",
        "      datanya[val] = 1\n",
        "    elif val in datanya:\n",
        "      datanya[val] = datanya[val] + 1\n",
        "  return datanya\n",
        "lol = count_it_m8(Sketchit5)"
      ],
      "execution_count": 119,
      "outputs": []
    },
    {
      "cell_type": "code",
      "metadata": {
        "id": "m7MjeFo_slht",
        "outputId": "d9a9f6ae-3dba-4eee-da33-be71bac04aee",
        "colab": {
          "base_uri": "https://localhost:8080/"
        }
      },
      "source": [
        "Ans = sorted(lol,key = lol.get,reverse=True)[:20]\n",
        "for keys,val in lol.items():\n",
        "  if keys in Ans:\n",
        "    index = 0\n",
        "    for item in Ans:\n",
        "      if item == keys:\n",
        "        Ans[index] = (keys,val)\n",
        "      else:\n",
        "        index = index + 1\n",
        "\n",
        "Ans"
      ],
      "execution_count": 134,
      "outputs": [
        {
          "output_type": "execute_result",
          "data": {
            "text/plain": [
              "[('iphone,lightning charging cable', 860),\n",
              " ('google phone,usb-c charging cable', 828),\n",
              " ('iphone,wired headphones', 355),\n",
              " ('vareebadd phone,usb-c charging cable', 301),\n",
              " ('google phone,wired headphones', 295),\n",
              " ('iphone,apple airpods headphones', 274),\n",
              " ('google phone,bose soundsport headphones', 160),\n",
              " ('vareebadd phone,wired headphones', 104),\n",
              " ('google phone,usb-c charging cable,wired headphones', 74),\n",
              " ('vareebadd phone,bose soundsport headphones', 56),\n",
              " ('lightning charging cable,usb-c charging cable', 55),\n",
              " ('iphone,lightning charging cable,wired headphones', 53),\n",
              " ('lightning charging cable,lightning charging cable', 51),\n",
              " ('lightning charging cable,aa batteries (4-pack)', 50),\n",
              " ('aa batteries (4-pack),lightning charging cable', 49),\n",
              " ('aaa batteries (4-pack),usb-c charging cable', 48),\n",
              " ('aa batteries (4-pack),aaa batteries (4-pack)', 47),\n",
              " ('aaa batteries (4-pack),aaa batteries (4-pack)', 46),\n",
              " ('usb-c charging cable,usb-c charging cable', 45),\n",
              " ('aaa batteries (4-pack),lightning charging cable', 44)]"
            ]
          },
          "metadata": {
            "tags": []
          },
          "execution_count": 134
        }
      ]
    },
    {
      "cell_type": "code",
      "metadata": {
        "id": "27KFJ2-aryMh",
        "outputId": "fc45779e-87d2-4a4b-aedf-cc60fff3820f",
        "colab": {
          "base_uri": "https://localhost:8080/",
          "height": 504
        }
      },
      "source": [
        "Sketchit6 = dfCleaned.groupby([\"product\"]).aggregate({np.sum,np.median,np.mean})\n",
        "fig,ax = plt.subplots(1, 1,figsize = (10,6))\n",
        "ax.bar(np.unique(dfCleaned[\"product\"].values),Sketchit6[(\"quantity_ordered\",\"sum\")])\n",
        "ax.set_xticklabels(labels = np.unique(dfCleaned[\"product\"]),rotation = \"vertical\",size = 8)\n",
        "ax.set(ylabel = \"Total Sold\")\n",
        "\n",
        "ax2= ax.twinx()\n",
        "ax2.plot(np.unique(dfCleaned[\"product\"].values), Sketchit6[(\"price_each\",\"mean\")],color=\"green\")\n",
        "ax2.set(ylabel = \"Mean In USD\")"
      ],
      "execution_count": 150,
      "outputs": [
        {
          "output_type": "execute_result",
          "data": {
            "text/plain": [
              "[Text(0, 0.5, 'Mean In USD')]"
            ]
          },
          "metadata": {
            "tags": []
          },
          "execution_count": 150
        },
        {
          "output_type": "display_data",
          "data": {
            "image/png": "[encoded data removed]",
            "text/plain": [
              "<Figure size 720x432 with 2 Axes>"
            ]
          },
          "metadata": {
            "tags": [],
            "needs_background": "light"
          }
        }
      ]
    }
  ]
}