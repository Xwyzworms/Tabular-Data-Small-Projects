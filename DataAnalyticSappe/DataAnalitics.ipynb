{
 "cells": [
  {
   "cell_type": "code",
   "execution_count": 131,
   "id": "collaborative-animal",
   "metadata": {},
   "outputs": [],
   "source": [
    "import numpy as np\n",
    "import pandas as pd\n",
    "import matplotlib.pyplot as plt\n",
    "import seaborn as sns\n",
    "pd.set_option(\"max_columns\",None)\n",
    "pd.set_option(\"max_rows\",None)"
   ]
  },
  {
   "cell_type": "code",
   "execution_count": 6,
   "id": "activated-string",
   "metadata": {},
   "outputs": [
    {
     "data": {
      "text/html": [
       "<div>\n",
       "<style scoped>\n",
       "    .dataframe tbody tr th:only-of-type {\n",
       "        vertical-align: middle;\n",
       "    }\n",
       "\n",
       "    .dataframe tbody tr th {\n",
       "        vertical-align: top;\n",
       "    }\n",
       "\n",
       "    .dataframe thead th {\n",
       "        text-align: right;\n",
       "    }\n",
       "</style>\n",
       "<table border=\"1\" class=\"dataframe\">\n",
       "  <thead>\n",
       "    <tr style=\"text-align: right;\">\n",
       "      <th></th>\n",
       "      <th>Id</th>\n",
       "      <th>Email</th>\n",
       "      <th>Phone</th>\n",
       "      <th>Contacts</th>\n",
       "      <th>OrderId</th>\n",
       "    </tr>\n",
       "  </thead>\n",
       "  <tbody>\n",
       "    <tr>\n",
       "      <th>0</th>\n",
       "      <td>0</td>\n",
       "      <td>gkzAbIy@qq.com</td>\n",
       "      <td></td>\n",
       "      <td>1</td>\n",
       "      <td></td>\n",
       "    </tr>\n",
       "    <tr>\n",
       "      <th>1</th>\n",
       "      <td>1</td>\n",
       "      <td></td>\n",
       "      <td>329442681752</td>\n",
       "      <td>4</td>\n",
       "      <td>vDDJJcxfLtSfkooPhbYnJdxov</td>\n",
       "    </tr>\n",
       "    <tr>\n",
       "      <th>2</th>\n",
       "      <td>2</td>\n",
       "      <td></td>\n",
       "      <td>9125983679</td>\n",
       "      <td>0</td>\n",
       "      <td></td>\n",
       "    </tr>\n",
       "    <tr>\n",
       "      <th>3</th>\n",
       "      <td>3</td>\n",
       "      <td>mdllpYmE@gmail.com</td>\n",
       "      <td></td>\n",
       "      <td>0</td>\n",
       "      <td>bHquEnCbbsGLqllwryxPsNOxa</td>\n",
       "    </tr>\n",
       "    <tr>\n",
       "      <th>4</th>\n",
       "      <td>4</td>\n",
       "      <td></td>\n",
       "      <td>300364407</td>\n",
       "      <td>2</td>\n",
       "      <td></td>\n",
       "    </tr>\n",
       "    <tr>\n",
       "      <th>5</th>\n",
       "      <td>5</td>\n",
       "      <td></td>\n",
       "      <td>840113148</td>\n",
       "      <td>0</td>\n",
       "      <td></td>\n",
       "    </tr>\n",
       "    <tr>\n",
       "      <th>6</th>\n",
       "      <td>6</td>\n",
       "      <td>hESiBgYTxMnj@hotmail.com</td>\n",
       "      <td></td>\n",
       "      <td>4</td>\n",
       "      <td></td>\n",
       "    </tr>\n",
       "    <tr>\n",
       "      <th>7</th>\n",
       "      <td>7</td>\n",
       "      <td>hqyunTiaXfIjhO@yahoo.com</td>\n",
       "      <td></td>\n",
       "      <td>1</td>\n",
       "      <td>vxjYZtMUvNhtEBDruzQfjpsmX</td>\n",
       "    </tr>\n",
       "    <tr>\n",
       "      <th>8</th>\n",
       "      <td>8</td>\n",
       "      <td>XGUjcSiDpFKWEUCs@qq.com</td>\n",
       "      <td>223604620644</td>\n",
       "      <td>2</td>\n",
       "      <td></td>\n",
       "    </tr>\n",
       "    <tr>\n",
       "      <th>9</th>\n",
       "      <td>9</td>\n",
       "      <td>osIIQgAiZX@hotmail.com</td>\n",
       "      <td></td>\n",
       "      <td>0</td>\n",
       "      <td>IqewrMXVTJqSsVklWFfOpdRNI</td>\n",
       "    </tr>\n",
       "  </tbody>\n",
       "</table>\n",
       "</div>"
      ],
      "text/plain": [
       "   Id                     Email         Phone  Contacts  \\\n",
       "0   0            gkzAbIy@qq.com                       1   \n",
       "1   1                            329442681752         4   \n",
       "2   2                              9125983679         0   \n",
       "3   3        mdllpYmE@gmail.com                       0   \n",
       "4   4                               300364407         2   \n",
       "5   5                               840113148         0   \n",
       "6   6  hESiBgYTxMnj@hotmail.com                       4   \n",
       "7   7  hqyunTiaXfIjhO@yahoo.com                       1   \n",
       "8   8   XGUjcSiDpFKWEUCs@qq.com  223604620644         2   \n",
       "9   9    osIIQgAiZX@hotmail.com                       0   \n",
       "\n",
       "                     OrderId  \n",
       "0                             \n",
       "1  vDDJJcxfLtSfkooPhbYnJdxov  \n",
       "2                             \n",
       "3  bHquEnCbbsGLqllwryxPsNOxa  \n",
       "4                             \n",
       "5                             \n",
       "6                             \n",
       "7  vxjYZtMUvNhtEBDruzQfjpsmX  \n",
       "8                             \n",
       "9  IqewrMXVTJqSsVklWFfOpdRNI  "
      ]
     },
     "execution_count": 6,
     "metadata": {},
     "output_type": "execute_result"
    }
   ],
   "source": [
    "df = pd.read_json(\"contacts.json\")\n",
    "df.head(10)\n",
    "    "
   ]
  },
  {
   "cell_type": "code",
   "execution_count": 123,
   "id": "short-parent",
   "metadata": {},
   "outputs": [],
   "source": [
    "def getsumContact(contactcontactList):\n",
    "    return np.sum(contactList)\n",
    "\n",
    "def getEmail(Email):\n",
    "    if Email == \"\":\n",
    "        return\n",
    "    ans = df[df[\"Email\"] == Email]\n",
    "    return ans\n",
    "\n",
    "def getPhoneNumber(phoneNumber):\n",
    "    if phoneNumber == \"\":\n",
    "        return\n",
    "    ans = df[df[\"Phone\"] == phoneNumber]\n",
    "    return ans \n",
    "\n",
    "def getOrderId(order):\n",
    "    ans = df[df[\"OrderId\"] == order]\n",
    "    return ans"
   ]
  },
  {
   "cell_type": "code",
   "execution_count": 124,
   "id": "victorian-board",
   "metadata": {},
   "outputs": [
    {
     "data": {
      "text/html": [
       "<div>\n",
       "<style scoped>\n",
       "    .dataframe tbody tr th:only-of-type {\n",
       "        vertical-align: middle;\n",
       "    }\n",
       "\n",
       "    .dataframe tbody tr th {\n",
       "        vertical-align: top;\n",
       "    }\n",
       "\n",
       "    .dataframe thead th {\n",
       "        text-align: right;\n",
       "    }\n",
       "</style>\n",
       "<table border=\"1\" class=\"dataframe\">\n",
       "  <thead>\n",
       "    <tr style=\"text-align: right;\">\n",
       "      <th></th>\n",
       "      <th>Id</th>\n",
       "      <th>Email</th>\n",
       "      <th>Phone</th>\n",
       "      <th>Contacts</th>\n",
       "      <th>OrderId</th>\n",
       "    </tr>\n",
       "  </thead>\n",
       "  <tbody>\n",
       "    <tr>\n",
       "      <th>50</th>\n",
       "      <td>50</td>\n",
       "      <td>TIMejlVYhfqjy@gmail.com</td>\n",
       "      <td>840113148</td>\n",
       "      <td>4</td>\n",
       "      <td>XBkNrwcWWslDvSQdhYPfCpQJo</td>\n",
       "    </tr>\n",
       "  </tbody>\n",
       "</table>\n",
       "</div>"
      ],
      "text/plain": [
       "    Id                    Email      Phone  Contacts  \\\n",
       "50  50  TIMejlVYhfqjy@gmail.com  840113148         4   \n",
       "\n",
       "                      OrderId  \n",
       "50  XBkNrwcWWslDvSQdhYPfCpQJo  "
      ]
     },
     "execution_count": 124,
     "metadata": {},
     "output_type": "execute_result"
    }
   ],
   "source": [
    "getEmail(\"TIMejlVYhfqjy@gmail.com\")"
   ]
  },
  {
   "cell_type": "code",
   "execution_count": 140,
   "id": "flying-chair",
   "metadata": {},
   "outputs": [
    {
     "data": {
      "text/plain": [
       "'50, 4'"
      ]
     },
     "execution_count": 140,
     "metadata": {},
     "output_type": "execute_result"
    }
   ],
   "source": [
    "def solve(email = \"\",phoneNumber = \"\"):\n",
    "    ansPhonedf = \"\"\n",
    "    ansEmaildf = \"\"\n",
    "    ansContacts= \"\"\n",
    "    ansOrder = \"\"\n",
    "    \n",
    "    if email != \"\":\n",
    "        ansEmaildf = getEmail(email)\n",
    "    if phoneNumber != \"\":\n",
    "        ansPhonedf = getPhoneNumber(phoneNumber)\n",
    "    if len(email) != 0 and len(phoneNumber) != 0:\n",
    "        ansContacts = str(np.nansum(ansEmaildf['Contacts'] + ansPhonedf[\"Contacts\"],dtype=int))\n",
    "        ansId = map(str,sorted(list(set(ansEmaildf[\"Id\"].to_list() + ansPhonedf[\"Id\"].to_list()))\n",
    "                           ,reverse=False))\n",
    "        ansId = \"-\".join(ansId)\n",
    "        ans = ansId + \", \"+ (ansContacts)\n",
    "    elif len(email) == 0:\n",
    "        ansContacts = str(np.nansum(ansPhonedf[\"Contacts\"],dtype=int))\n",
    "        ansId = map(str,sorted(list(set(ansPhonedf[\"Id\"].to_list()))\n",
    "                           ,reverse=False))\n",
    "        ansId = \"-\".join(ansId)\n",
    "        ans = ansId + \", \"+ (ansContacts)       \n",
    "    elif len(phoneNumber) == 0:\n",
    "        ansContacts = str(np.nansum(ansEmaildf[\"Contacts\"],dtype=int))\n",
    "        ansId = map(str,sorted(list(set(ansEmaildf[\"Id\"].to_list()))\n",
    "                           ,reverse=False))\n",
    "        ansId = \"-\".join(ansId)\n",
    "        ans = ansId + \", \"+ (ansContacts)          \n",
    "    return ans\n",
    "    \n",
    "\n",
    "    \n",
    "    \n",
    "solve(\"TIMejlVYhfqjy@gmail.com\")"
   ]
  },
  {
   "cell_type": "code",
   "execution_count": null,
   "id": "minus-strain",
   "metadata": {},
   "outputs": [],
   "source": [
    "dfAns = pd.DataFrame()\n",
    "dfAns[\"ticket_id\"] = df[\"Id\"].copy()\n",
    "dfAns[\"ticket_trace/contact\"] = df.apply(lambda x : solve(x[\"Email\"],x[\"Phone\"]),axis=1)"
   ]
  },
  {
   "cell_type": "code",
   "execution_count": 142,
   "id": "dimensional-parks",
   "metadata": {},
   "outputs": [
    {
     "data": {
      "text/html": [
       "<div>\n",
       "<style scoped>\n",
       "    .dataframe tbody tr th:only-of-type {\n",
       "        vertical-align: middle;\n",
       "    }\n",
       "\n",
       "    .dataframe tbody tr th {\n",
       "        vertical-align: top;\n",
       "    }\n",
       "\n",
       "    .dataframe thead th {\n",
       "        text-align: right;\n",
       "    }\n",
       "</style>\n",
       "<table border=\"1\" class=\"dataframe\">\n",
       "  <thead>\n",
       "    <tr style=\"text-align: right;\">\n",
       "      <th></th>\n",
       "      <th>ticket_id</th>\n",
       "      <th>ticket_trace/contact</th>\n",
       "    </tr>\n",
       "  </thead>\n",
       "  <tbody>\n",
       "    <tr>\n",
       "      <th>0</th>\n",
       "      <td>0</td>\n",
       "      <td>0, 1</td>\n",
       "    </tr>\n",
       "    <tr>\n",
       "      <th>1</th>\n",
       "      <td>1</td>\n",
       "      <td>1, 4</td>\n",
       "    </tr>\n",
       "    <tr>\n",
       "      <th>2</th>\n",
       "      <td>2</td>\n",
       "      <td>2-348955, 0</td>\n",
       "    </tr>\n",
       "    <tr>\n",
       "      <th>3</th>\n",
       "      <td>3</td>\n",
       "      <td>3, 0</td>\n",
       "    </tr>\n",
       "    <tr>\n",
       "      <th>4</th>\n",
       "      <td>4</td>\n",
       "      <td>4, 2</td>\n",
       "    </tr>\n",
       "    <tr>\n",
       "      <th>5</th>\n",
       "      <td>5</td>\n",
       "      <td>5-50, 4</td>\n",
       "    </tr>\n",
       "    <tr>\n",
       "      <th>6</th>\n",
       "      <td>6</td>\n",
       "      <td>6-38-32871-142067, 10</td>\n",
       "    </tr>\n",
       "    <tr>\n",
       "      <th>7</th>\n",
       "      <td>7</td>\n",
       "      <td>7, 1</td>\n",
       "    </tr>\n",
       "    <tr>\n",
       "      <th>8</th>\n",
       "      <td>8</td>\n",
       "      <td>8-183160, 4</td>\n",
       "    </tr>\n",
       "  </tbody>\n",
       "</table>\n",
       "</div>"
      ],
      "text/plain": [
       "   ticket_id   ticket_trace/contact\n",
       "0          0                   0, 1\n",
       "1          1                   1, 4\n",
       "2          2            2-348955, 0\n",
       "3          3                   3, 0\n",
       "4          4                   4, 2\n",
       "5          5                5-50, 4\n",
       "6          6  6-38-32871-142067, 10\n",
       "7          7                   7, 1\n",
       "8          8            8-183160, 4"
      ]
     },
     "execution_count": 142,
     "metadata": {},
     "output_type": "execute_result"
    }
   ],
   "source": [
    "dfAns.head(9)"
   ]
  },
  {
   "cell_type": "code",
   "execution_count": 145,
   "id": "statewide-worth",
   "metadata": {},
   "outputs": [
    {
     "data": {
      "text/plain": [
       "Id                       0\n",
       "Email       gkzAbIy@qq.com\n",
       "Phone                     \n",
       "Contacts                 1\n",
       "OrderId                   \n",
       "Name: 0, dtype: object"
      ]
     },
     "execution_count": 145,
     "metadata": {},
     "output_type": "execute_result"
    }
   ],
   "source": [
    "df.loc[0]"
   ]
  },
  {
   "cell_type": "code",
   "execution_count": 146,
   "id": "vietnamese-tampa",
   "metadata": {},
   "outputs": [
    {
     "data": {
      "text/plain": [
       "Id                                  1\n",
       "Email                                \n",
       "Phone                    329442681752\n",
       "Contacts                            4\n",
       "OrderId     vDDJJcxfLtSfkooPhbYnJdxov\n",
       "Name: 1, dtype: object"
      ]
     },
     "execution_count": 146,
     "metadata": {},
     "output_type": "execute_result"
    }
   ],
   "source": [
    "df.loc[1]"
   ]
  },
  {
   "cell_type": "code",
   "execution_count": 147,
   "id": "alone-green",
   "metadata": {},
   "outputs": [],
   "source": [
    "dfAns.to_csv(\"ans.csv\",index=False)"
   ]
  },
  {
   "cell_type": "code",
   "execution_count": null,
   "id": "attended-mixture",
   "metadata": {},
   "outputs": [],
   "source": []
  },
  {
   "cell_type": "code",
   "execution_count": null,
   "id": "representative-bicycle",
   "metadata": {},
   "outputs": [],
   "source": []
  },
  {
   "cell_type": "code",
   "execution_count": null,
   "id": "greek-shareware",
   "metadata": {},
   "outputs": [],
   "source": []
  },
  {
   "cell_type": "code",
   "execution_count": null,
   "id": "classified-eagle",
   "metadata": {},
   "outputs": [],
   "source": []
  },
  {
   "cell_type": "code",
   "execution_count": null,
   "id": "outer-leader",
   "metadata": {},
   "outputs": [],
   "source": []
  },
  {
   "cell_type": "code",
   "execution_count": null,
   "id": "portable-samba",
   "metadata": {},
   "outputs": [],
   "source": []
  },
  {
   "cell_type": "code",
   "execution_count": null,
   "id": "bibliographic-doctor",
   "metadata": {},
   "outputs": [],
   "source": []
  },
  {
   "cell_type": "code",
   "execution_count": null,
   "id": "advanced-longer",
   "metadata": {},
   "outputs": [],
   "source": []
  },
  {
   "cell_type": "code",
   "execution_count": null,
   "id": "handmade-registrar",
   "metadata": {},
   "outputs": [],
   "source": []
  },
  {
   "cell_type": "code",
   "execution_count": null,
   "id": "supported-poland",
   "metadata": {},
   "outputs": [],
   "source": []
  },
  {
   "cell_type": "code",
   "execution_count": null,
   "id": "former-russian",
   "metadata": {},
   "outputs": [],
   "source": []
  },
  {
   "cell_type": "code",
   "execution_count": null,
   "id": "transsexual-insider",
   "metadata": {},
   "outputs": [],
   "source": []
  },
  {
   "cell_type": "code",
   "execution_count": null,
   "id": "worst-preliminary",
   "metadata": {},
   "outputs": [],
   "source": []
  },
  {
   "cell_type": "code",
   "execution_count": null,
   "id": "indie-jacob",
   "metadata": {},
   "outputs": [],
   "source": []
  },
  {
   "cell_type": "code",
   "execution_count": null,
   "id": "convinced-rehabilitation",
   "metadata": {},
   "outputs": [],
   "source": []
  },
  {
   "cell_type": "code",
   "execution_count": null,
   "id": "selective-booth",
   "metadata": {},
   "outputs": [],
   "source": []
  },
  {
   "cell_type": "code",
   "execution_count": null,
   "id": "classified-hobby",
   "metadata": {},
   "outputs": [],
   "source": []
  },
  {
   "cell_type": "code",
   "execution_count": null,
   "id": "powered-stuart",
   "metadata": {},
   "outputs": [],
   "source": []
  }
 ],
 "metadata": {
  "kernelspec": {
   "display_name": "Python 3",
   "language": "python",
   "name": "python3"
  },
  "language_info": {
   "codemirror_mode": {
    "name": "ipython",
    "version": 3
   },
   "file_extension": ".py",
   "mimetype": "text/x-python",
   "name": "python",
   "nbconvert_exporter": "python",
   "pygments_lexer": "ipython3",
   "version": "3.6.12"
  }
 },
 "nbformat": 4,
 "nbformat_minor": 5
}
